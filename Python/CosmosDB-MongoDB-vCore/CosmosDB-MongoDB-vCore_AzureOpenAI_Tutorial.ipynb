{
 "cells": [
  {
   "cell_type": "markdown",
   "metadata": {},
   "source": [
    "# はじめに\n",
    "\n",
    "このチュートリアルでは、Azure Cosmos DB for MongoDB vCoreに格納されたサンプルデータセットを活用して、OpenAIモデルを基盤にする方法を示します。これにより、Azure Cosmos DB for MongoDB vCoreの[ベクトル類似検索](https://learn.microsoft.com/azure/cosmos-db/mongodb/vcore/vector-search) 機能を活用します。 最終的には、データセットに基づいてAzureサービスに関する質問に答えるために、GPT-3.5の補完モデルを用いたインタラクティブなチャットセッションを作成します。このプロセスは、Retrieval Augmented Generation（RAG）として知られています。\n",
    "\n",
    "このチュートリアルでは、Azure Cognitive Search Vector Searchデモからいくつかのコードスニペットとサンプルデータを借用しています。"
   ]
  },
  {
   "cell_type": "markdown",
   "metadata": {},
   "source": [
    "# 事前準備 <a class=\"anchor\" id=\"preliminaries\"></a>\n",
    "まずは、後で必要になるパッケージをインストールしてみましょう。"
   ]
  },
  {
   "cell_type": "code",
   "execution_count": null,
   "metadata": {},
   "outputs": [],
   "source": [
    "! pip install numpy\n",
    "! pip install openai\n",
    "! pip install pymongo\n",
    "! pip install python-dotenv\n",
    "! pip install azure-core\n",
    "! pip install azure-cosmos"
   ]
  },
  {
   "cell_type": "code",
   "execution_count": null,
   "metadata": {},
   "outputs": [],
   "source": [
    "import json\n",
    "import datetime\n",
    "import time\n",
    "import urllib \n",
    "\n",
    "from azure.core.exceptions import AzureError\n",
    "from azure.core.credentials import AzureKeyCredential\n",
    "import pymongo\n",
    "\n",
    "from openai import AzureOpenAI\n",
    "from dotenv import load_dotenv"
   ]
  },
  {
   "cell_type": "markdown",
   "metadata": {},
   "source": [
    "example.envファイルをテンプレートとして使用して、独自の.envファイルに必要なキーとエンドポイントを提供してください。env_nameを適切に変更してください。"
   ]
  },
  {
   "cell_type": "code",
   "execution_count": null,
   "metadata": {},
   "outputs": [],
   "source": [
    "from dotenv import dotenv_values\n",
    "\n",
    "# specify the name of the .env file name \n",
    "env_name = \"example.env\" # following example.env template change to your own .env file name\n",
    "config = dotenv_values(env_name)\n",
    "\n",
    "COSMOS_MONGO_USER = config['cosmos_db_mongo_user']\n",
    "COSMOS_MONGO_PWD = config['cosmos_db_mongo_pwd']\n",
    "COSMOS_MONGO_SERVER = config['cosmos_db_mongo_server']\n",
    "\n",
    "AOAI_client = AzureOpenAI(api_key=config['openai_api_key'], azure_endpoint=config['openai_api_endpoint'], api_version=config['openai_api_version'],)"
   ]
  },
  {
   "cell_type": "markdown",
   "metadata": {
    "jp-MarkdownHeadingCollapsed": true
   },
   "source": [
    "## Azure Cosmos DB for MongoDB vCoreリソースの作成<a class=\"anchor\" id=\"cosmosdb\"></a>\n",
    "まず、このクイックスタートガイドに従ってAzure Cosmos DB for MongoDB vCoreリソースを作成します: https://learn.microsoft.com/en-us/azure/cosmos-db/mongodb/vcore/quickstart-portal\n",
    "\n",
    "次に、接続の詳細（サーバー、ユーザー、パスワード）をconfig.jsonファイルにコピーします。"
   ]
  },
  {
   "cell_type": "markdown",
   "metadata": {},
   "source": [
    "## Azure OpenAI <a class=\"anchor\" id=\"azureopenai\"></a>\n",
    "\n",
    "最後に、Azure OpenAIリソースをセットアップしましょう。現時点では、このサービスへのアクセスはアプリケーションによってのみ許可されています。Azure OpenAIへのアクセスを申請するには、[こちらのフォーム](https://aka.ms/oai/access)を完成させてください。アクセスを取得したら、以下の手順を完了してください:\n",
    "\n",
    "- [クイックスタート](https://learn.microsoft.com/azure/ai-services/openai/how-to/create-resource?pivots=web-portal)に従ってAzure OpenAIリソースを作成します。\n",
    "- `completions`および`embeddings`モデルをデプロイします\n",
    "    - `completions`に関する詳細は[こちら](https://learn.microsoft.com/azure/ai-services/openai/how-to/completions)を参照してください。\n",
    "    - `embeddings`に関する詳細は[こちら](https://learn.microsoft.com/azure/ai-services/openai/how-to/embeddings)を参照してください。\n",
    "- エンドポイント、キー、デプロイメント名（埋め込みモデル、補完モデル）をconfig.jsonファイルにコピーします。\n"
   ]
  },
  {
   "cell_type": "markdown",
   "metadata": {},
   "source": [
    "# データをロードして埋め込みを作成する <a class=\"anchor\" id=\"loaddata\"></a>\n",
    "ここでは、Azureサービスの説明を含むサンプルデータセットをロードし、そのデータからAzure OpenAIを使用してベクトル埋め込みを作成します。"
   ]
  },
  {
   "cell_type": "code",
   "execution_count": null,
   "metadata": {},
   "outputs": [],
   "source": [
    "# Load text-sample_w_embeddings.json which has embeddings pre-computed\n",
    "data_file = open(file=\"../../DataSet/AzureServices/text-sample_w_embeddings.json\", mode=\"r\") \n",
    "\n",
    "# OR Load text-sample.json data file. Embeddings will need to be generated using the function below.\n",
    "# data_file = open(file=\"../../DataSet/AzureServices/text-sample.json\", mode=\"r\")\n",
    "\n",
    "data = json.load(data_file)\n",
    "data_file.close()"
   ]
  },
  {
   "cell_type": "code",
   "execution_count": null,
   "metadata": {
    "scrolled": true
   },
   "outputs": [],
   "source": [
    "# Take a peek at one data item\n",
    "print(json.dumps(data[0], indent=2))"
   ]
  },
  {
   "cell_type": "code",
   "execution_count": null,
   "metadata": {},
   "outputs": [],
   "source": [
    "def generate_embeddings(text):\n",
    "    '''\n",
    "    Generate embeddings from string of text.\n",
    "    This will be used to vectorize data and user input for interactions with Azure OpenAI.\n",
    "    '''\n",
    "    response = AOAI_client.embeddings.create(input=text, model=config['openai_embeddings_deployment'])\n",
    "    embeddings =response.model_dump()\n",
    "    time.sleep(0.5) \n",
    "    return embeddings['data'][0]['embedding']"
   ]
  },
  {
   "cell_type": "code",
   "execution_count": null,
   "metadata": {},
   "outputs": [],
   "source": [
    "# Generate embeddings for title and content fields\n",
    "n = 0\n",
    "for item in data:\n",
    "    n+=1\n",
    "    title = item['title']\n",
    "    content = item['content']\n",
    "    title_embeddings = generate_embeddings(title)\n",
    "    content_embeddings = generate_embeddings(content)\n",
    "    item['titleVector'] = title_embeddings\n",
    "    item['contentVector'] = content_embeddings\n",
    "    item['@search.action'] = 'upload'\n",
    "    print(\"Creating embeddings for item:\", n, \"/\" ,len(data), end='\\r')\n",
    "# Save embeddings to sample_text_w_embeddings.json file\n",
    "with open(\"../../DataSet/AzureServices/text-sample_w_embeddings.json\", \"w\") as f:\n",
    "    json.dump(data, f)"
   ]
  },
  {
   "cell_type": "code",
   "execution_count": null,
   "metadata": {},
   "outputs": [],
   "source": [
    "# Take a peek at one data item with embeddings created\n",
    "print(json.dumps(data[0], indent=2))"
   ]
  },
  {
   "cell_type": "markdown",
   "metadata": {},
   "source": [
    "# Connect and setup Cosmos DB for MongoDB vCore"
   ]
  },
  {
   "cell_type": "markdown",
   "metadata": {},
   "source": [
    "## 接続のセットアップ"
   ]
  },
  {
   "cell_type": "code",
   "execution_count": null,
   "metadata": {},
   "outputs": [],
   "source": [
    "mongo_conn = \"mongodb+srv://\"+urllib.parse.quote(COSMOS_MONGO_USER)+\":\"+urllib.parse.quote(COSMOS_MONGO_PWD)+\"@\"+COSMOS_MONGO_SERVER+\"?tls=true&authMechanism=SCRAM-SHA-256&retrywrites=false&maxIdleTimeMS=120000\"\n",
    "mongo_client = pymongo.MongoClient(mongo_conn)"
   ]
  },
  {
   "cell_type": "markdown",
   "metadata": {},
   "source": [
    "## データベースとコレクションのセットアップ"
   ]
  },
  {
   "cell_type": "code",
   "execution_count": null,
   "metadata": {},
   "outputs": [],
   "source": [
    "# create a database called TutorialDB\n",
    "db = mongo_client['ExampleDB']\n",
    "\n",
    "# Create collection if it doesn't exist\n",
    "COLLECTION_NAME = \"ExampleCollection\"\n",
    "\n",
    "collection = db[COLLECTION_NAME]\n",
    "\n",
    "if COLLECTION_NAME not in db.list_collection_names():\n",
    "    # Creates a unsharded collection that uses the DBs shared throughput\n",
    "    db.create_collection(COLLECTION_NAME)\n",
    "    print(\"Created collection '{}'.\\n\".format(COLLECTION_NAME))\n",
    "else:\n",
    "    print(\"Using collection: '{}'.\\n\".format(COLLECTION_NAME))"
   ]
  },
  {
   "cell_type": "code",
   "execution_count": null,
   "metadata": {},
   "outputs": [],
   "source": [
    "# Use only if re-reunning code and want to reset db and collection\n",
    "collection.drop_indexes()\n",
    "mongo_client.drop_database(\"ExampleDB\")"
   ]
  },
  {
   "cell_type": "markdown",
   "metadata": {},
   "source": [
    "## ベクトルインデックスの作成\n",
    "\n",
    "**重要: 1つのベクトルプロパティに対して1つのインデックスしか作成できません。** つまり、同じベクトルプロパティを指す複数のインデックスを作成することはできません。 インデックスのタイプを変更したい場合（たとえば、IVFからHNSWに）、新しいインデックスを作成する前に最初にインデックスを削除する必要があります。"
   ]
  },
  {
   "cell_type": "markdown",
   "metadata": {},
   "source": [
    "### IVFインデックス\n",
    "IVFは、クラスタリングを使用してデータセット内の類似したベクトルを高速に検索するための近似最近傍（ANN）アプローチです。 プロトタイプや小規模なデータセット（数千のドキュメント未満）の場合には良い選択肢です。 ただし、大規模なスケーリングやより高いスループットが必要な場合にはお勧めしません。\n",
    "\n",
    "IVFは、無料のティアを含むすべてのクラスターティアでサポートされています。"
   ]
  },
  {
   "cell_type": "code",
   "execution_count": null,
   "metadata": {},
   "outputs": [],
   "source": [
    "db.command({\n",
    "  'createIndexes': 'ExampleCollection',\n",
    "  'indexes': [\n",
    "    {\n",
    "      'name': 'VectorSearchIndex',\n",
    "      'key': {\n",
    "        \"contentVector\": \"cosmosSearch\"\n",
    "      },\n",
    "      'cosmosSearchOptions': {\n",
    "        'kind': 'vector-ivf',\n",
    "        'numLists': 1,\n",
    "        'similarity': 'COS',\n",
    "        'dimensions': 1536\n",
    "      }\n",
    "    }\n",
    "  ]\n",
    "})"
   ]
  },
  {
   "cell_type": "markdown",
   "metadata": {},
   "source": [
    "### HNSWインデックス\n",
    "\n",
    "HNSWは、Hierarchical Navigable Small Worldの略であり、グラフベースのインデックスで、ベクトルをクラスターとサブクラスターに分割します。 HNSWを使用すると、より高速でより正確な近似最近傍検索を行うことができます。 HNSWは、M40およびそれ以上のクラスターティアで利用可能です。"
   ]
  },
  {
   "cell_type": "code",
   "execution_count": null,
   "metadata": {},
   "outputs": [],
   "source": [
    "db.command({ \n",
    "    \"createIndexes\": \"ExampleCollection\",\n",
    "    \"indexes\": [\n",
    "        {\n",
    "            \"name\": \"VectorSearchIndex\",\n",
    "            \"key\": {\n",
    "                \"contentVector\": \"cosmosSearch\"\n",
    "            },\n",
    "            \"cosmosSearchOptions\": { \n",
    "                \"kind\": \"vector-hnsw\", \n",
    "                \"m\": 16, # default value \n",
    "                \"efConstruction\": 64, # default value \n",
    "                \"similarity\": \"COS\", \n",
    "                \"dimensions\": 1536\n",
    "            } \n",
    "        } \n",
    "    ] \n",
    "}\n",
    ")"
   ]
  },
  {
   "cell_type": "markdown",
   "metadata": {},
   "source": [
    "## コレクションにデータをアップロードする\n",
    "新しく作成したデータベースとコレクションに、JSON形式のデータを`insert_many()`を使用して簡単に挿入します。"
   ]
  },
  {
   "cell_type": "code",
   "execution_count": null,
   "metadata": {},
   "outputs": [],
   "source": [
    "collection.insert_many(data)"
   ]
  },
  {
   "cell_type": "markdown",
   "metadata": {},
   "source": [
    "# Vector Search in Cosmos DB for MongoDB vCore"
   ]
  },
  {
   "cell_type": "code",
   "execution_count": null,
   "metadata": {},
   "outputs": [],
   "source": [
    "# Simple function to assist with vector search\n",
    "def vector_search(query, num_results=5):\n",
    "    query_embedding = generate_embeddings(query)\n",
    "    embeddings_list = []\n",
    "    pipeline = [\n",
    "        {\n",
    "            '$search': {\n",
    "                \"cosmosSearch\": {\n",
    "                    \"vector\": query_embedding,\n",
    "                    \"path\": \"contentVector\",\n",
    "                    \"k\": num_results#, #, \"efsearch\": 40 # optional for HNSW only \n",
    "                    #\"filter\": {\"title\": {\"$ne\": \"Azure Cosmos DB\"}}\n",
    "                },\n",
    "                \"returnStoredSource\": True }},\n",
    "        {'$project': { 'similarityScore': { '$meta': 'searchScore' }, 'document' : '$$ROOT' } }\n",
    "    ]\n",
    "    results = collection.aggregate(pipeline)\n",
    "    return results"
   ]
  },
  {
   "cell_type": "markdown",
   "metadata": {},
   "source": [
    "以下でテストクエリを実行しましょう。"
   ]
  },
  {
   "cell_type": "code",
   "execution_count": null,
   "metadata": {
    "scrolled": true
   },
   "outputs": [],
   "source": [
    "query = \"What are some NoSQL databases in Azure?\"#\"What are the services for running ML models?\"\n",
    "results = vector_search(query)\n",
    "for result in results: \n",
    "#     print(result)\n",
    "    print(f\"Similarity Score: {result['similarityScore']}\")  \n",
    "    print(f\"Title: {result['document']['title']}\")  \n",
    "    print(f\"Content: {result['document']['content']}\")  \n",
    "    print(f\"Category: {result['document']['category']}\\n\")  "
   ]
  },
  {
   "cell_type": "markdown",
   "metadata": {},
   "source": [
    "## フィルター付きベクトル検索（プレビュー）\n",
    "ベクトル検索に追加のクエリフィルタを追加するには、フィルタ付きインデックスを作成し、検索パイプラインでそれを指定します。\n",
    "\n",
    "**注意:** フィルター付きベクトル検索はプレビューであり、サブスクリプションでAzureプレビュー機能を有効にする必要があります。 プレビュー機能「filtering on vector search」を検索して有効にします。詳細については、[こちら](https://learn.microsoft.com/azure/azure-resource-manager/management/preview-features?tabs=azure-portal)を参照してください。"
   ]
  },
  {
   "cell_type": "code",
   "execution_count": null,
   "metadata": {},
   "outputs": [],
   "source": [
    "# Add a filter index\n",
    "db.command( {\n",
    "    \"createIndexes\": \"ExampleCollection\",\n",
    "    \"indexes\": [ {\n",
    "        \"key\": { \n",
    "            \"title\": 1 \n",
    "               }, \n",
    "        \"name\": \"title_filter\" \n",
    "    }\n",
    "    ] \n",
    "} \n",
    ")"
   ]
  },
  {
   "cell_type": "code",
   "execution_count": null,
   "metadata": {},
   "outputs": [],
   "source": [
    "# Verify all indexes are present\n",
    "for i in collection.list_indexes():\n",
    "    print(i)"
   ]
  },
  {
   "cell_type": "code",
   "execution_count": null,
   "metadata": {},
   "outputs": [],
   "source": [
    "# Simple function to assist with vector search\n",
    "def filtered_vector_search(query, num_results=5):\n",
    "    query_embedding = generate_embeddings(query)\n",
    "    embeddings_list = []\n",
    "    pipeline = [\n",
    "        {\n",
    "            '$search': {\n",
    "                \"cosmosSearch\": {\n",
    "                    \"vector\": query_embedding,\n",
    "                    \"path\": \"contentVector\",\n",
    "                    \"k\": num_results,\n",
    "                    \"filter\": {\"title\": {\"$nin\": [\"Azure SQL Database\", \"Azure Database for MySQL\"]}}\n",
    "                },\n",
    "                \"returnStoredSource\": True }},\n",
    "        {'$project': { 'similarityScore': { '$meta': 'searchScore' }, 'document' : '$$ROOT' } }\n",
    "    ]\n",
    "    results = collection.aggregate(pipeline)\n",
    "    return results"
   ]
  },
  {
   "cell_type": "code",
   "execution_count": null,
   "metadata": {},
   "outputs": [],
   "source": [
    "query = \"What are some NoSQL databases in Azure?\"#\"What are the services for running ML models?\"\n",
    "results = filtered_vector_search(query)\n",
    "for result in results: \n",
    "#     print(result)\n",
    "    print(f\"Similarity Score: {result['similarityScore']}\")  \n",
    "    print(f\"Title: {result['document']['title']}\")  \n",
    "    print(f\"Content: {result['document']['content']}\")  \n",
    "    print(f\"Category: {result['document']['category']}\\n\")  "
   ]
  },
  {
   "cell_type": "markdown",
   "metadata": {},
   "source": [
    "# データを使用した質疑応答（Q&A） with GPT-3.5\n",
    "\n",
    "最後に、`Completions`モデルにプロンプトを供給するためのヘルパー関数を作成します。その後、モデルに質問を投げてデータに基づいた情報を受け取ることができるインタラクティブなループを作成します。"
   ]
  },
  {
   "cell_type": "code",
   "execution_count": null,
   "metadata": {},
   "outputs": [],
   "source": [
    "#This function helps to ground the model with prompts and system instructions.\n",
    "\n",
    "def generate_completion(vector_search_results, user_prompt):\n",
    "    system_prompt = '''\n",
    "    You are an intelligent assistant for Microsoft Azure services.\n",
    "    You are designed to provide helpful answers to user questions about Azure services given the information about to be provided.\n",
    "        - Only answer questions related to the information provided below, provide at least 3 clear suggestions in a list format.\n",
    "        - Write two lines of whitespace between each answer in the list.\n",
    "        - If you're unsure of an answer, you can say \"\"I don't know\"\" or \"\"I'm not sure\"\" and recommend users search themselves.\"\n",
    "        - Only provide answers that have products that are part of Microsoft Azure and part of these following prompts.\n",
    "    '''\n",
    "\n",
    "    messages=[{\"role\": \"system\", \"content\": system_prompt}]\n",
    "    for item in vector_search_results:\n",
    "        messages.append({\"role\": \"system\", \"content\": item['document']['content']})\n",
    "    messages.append({\"role\": \"user\", \"content\": user_prompt})\n",
    "    response = AOAI_client.chat.completions.create(model=config['openai_completions_deployment'], messages=messages,temperature=0)\n",
    "    \n",
    "    return response.dict()"
   ]
  },
  {
   "cell_type": "code",
   "execution_count": null,
   "metadata": {
    "scrolled": true
   },
   "outputs": [],
   "source": [
    "# Create a loop of user input and model output. You can now perform Q&A over the sample data!\n",
    "\n",
    "user_input = \"\"\n",
    "print(\"*** Please ask your model questions about Azure services. Type 'end' to end the session.\\n\")\n",
    "user_input = input(\"User prompt: \")\n",
    "while user_input.lower() != \"end\":\n",
    "    search_results = vector_search(user_input)\n",
    "    completions_results = generate_completion(search_results, user_input)\n",
    "    print(\"\\n\")\n",
    "    print(completions_results['choices'][0]['message']['content'])\n",
    "    user_input = input(\"User prompt: \")"
   ]
  }
 ],
 "metadata": {
  "kernelspec": {
   "display_name": "Python 3 (ipykernel)",
   "language": "python",
   "name": "python3"
  },
  "language_info": {
   "codemirror_mode": {
    "name": "ipython",
    "version": 3
   },
   "file_extension": ".py",
   "mimetype": "text/x-python",
   "name": "python",
   "nbconvert_exporter": "python",
   "pygments_lexer": "ipython3",
   "version": "3.11.0"
  },
  "varInspector": {
   "cols": {
    "lenName": 16,
    "lenType": 16,
    "lenVar": 40
   },
   "kernels_config": {
    "python": {
     "delete_cmd_postfix": "",
     "delete_cmd_prefix": "del ",
     "library": "var_list.py",
     "varRefreshCmd": "print(var_dic_list())"
    },
    "r": {
     "delete_cmd_postfix": ") ",
     "delete_cmd_prefix": "rm(",
     "library": "var_list.r",
     "varRefreshCmd": "cat(var_dic_list()) "
    }
   },
   "types_to_exclude": [
    "module",
    "function",
    "builtin_function_or_method",
    "instance",
    "_Feature"
   ],
   "window_display": false
  }
 },
 "nbformat": 4,
 "nbformat_minor": 4
}
